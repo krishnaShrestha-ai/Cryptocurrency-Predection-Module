{
 "cells": [
  {
   "cell_type": "code",
   "execution_count": 1,
   "id": "302ef612-f491-4b3a-8105-7b331f9e7c45",
   "metadata": {},
   "outputs": [],
   "source": [
    "# pip install yfinance\n",
    "# pip install pandas\n",
    "# pip install numpy\n",
    "# pip install matplotlib\n",
    "# pip install scikit-learn\n",
    "# pip install keras\n"
   ]
  },
  {
   "cell_type": "code",
   "execution_count": 2,
   "id": "adbb8f35-7d59-4e0c-bde5-6f324f0c6297",
   "metadata": {},
   "outputs": [],
   "source": [
    "import yfinance as yf\n",
    "import pandas as pd\n",
    "import numpy as np\n",
    "import matplotlib.pyplot as plt\n",
    "from sklearn.preprocessing import MinMaxScaler\n",
    "from keras.layers import LSTM, Dense, Dropout\n",
    "from keras.models import Sequential\n",
    "from datetime import datetime, timedelta\n"
   ]
  },
  {
   "cell_type": "code",
   "execution_count": 3,
   "id": "d7372500-c3ae-42fd-842d-c22dfe6296c2",
   "metadata": {},
   "outputs": [
    {
     "name": "stderr",
     "output_type": "stream",
     "text": [
      "[*********************100%***********************]  1 of 1 completed"
     ]
    },
    {
     "name": "stdout",
     "output_type": "stream",
     "text": [
      "Price                     Adj Close    Close     High      Low     Open  \\\n",
      "Ticker                      LTC-USD  LTC-USD  LTC-USD  LTC-USD  LTC-USD   \n",
      "Date                                                                      \n",
      "2015-01-01 00:00:00+00:00   2.69905  2.69905  2.72421  2.68977  2.72421   \n",
      "2015-01-02 00:00:00+00:00   2.66736  2.66736  2.69924  2.66385  2.69743   \n",
      "2015-01-03 00:00:00+00:00   2.13316  2.13316  2.66646  2.13316  2.66646   \n",
      "2015-01-04 00:00:00+00:00   1.95668  1.95668  2.15446  1.91241  2.11022   \n",
      "2015-01-05 00:00:00+00:00   2.08218  2.08218  2.16048  1.95803  1.95803   \n",
      "\n",
      "Price                        Volume  \n",
      "Ticker                      LTC-USD  \n",
      "Date                                 \n",
      "2015-01-01 00:00:00+00:00    770693  \n",
      "2015-01-02 00:00:00+00:00    855392  \n",
      "2015-01-03 00:00:00+00:00   5193080  \n",
      "2015-01-04 00:00:00+00:00   3888140  \n",
      "2015-01-05 00:00:00+00:00  10649500  \n"
     ]
    },
    {
     "name": "stderr",
     "output_type": "stream",
     "text": [
      "\n"
     ]
    }
   ],
   "source": [
    "# 1. Load Litecoin data from yfinance\n",
    "end_date = datetime.now().strftime(\"%Y-%m-%d\")\n",
    "data = yf.download('LTC-USD', start='2015-01-01', end=end_date)\n",
    "\n",
    "# Display the first few rows of the data\n",
    "print(data.head())"
   ]
  },
  {
   "cell_type": "code",
   "execution_count": 4,
   "id": "fe2318fe-0191-4489-8470-e54990597e64",
   "metadata": {},
   "outputs": [
    {
     "data": {
      "text/html": [
       "<div>\n",
       "<style scoped>\n",
       "    .dataframe tbody tr th:only-of-type {\n",
       "        vertical-align: middle;\n",
       "    }\n",
       "\n",
       "    .dataframe tbody tr th {\n",
       "        vertical-align: top;\n",
       "    }\n",
       "\n",
       "    .dataframe thead tr th {\n",
       "        text-align: left;\n",
       "    }\n",
       "\n",
       "    .dataframe thead tr:last-of-type th {\n",
       "        text-align: right;\n",
       "    }\n",
       "</style>\n",
       "<table border=\"1\" class=\"dataframe\">\n",
       "  <thead>\n",
       "    <tr>\n",
       "      <th>Price</th>\n",
       "      <th>Adj Close</th>\n",
       "      <th>Close</th>\n",
       "      <th>High</th>\n",
       "      <th>Low</th>\n",
       "      <th>Open</th>\n",
       "      <th>Volume</th>\n",
       "    </tr>\n",
       "    <tr>\n",
       "      <th>Ticker</th>\n",
       "      <th>LTC-USD</th>\n",
       "      <th>LTC-USD</th>\n",
       "      <th>LTC-USD</th>\n",
       "      <th>LTC-USD</th>\n",
       "      <th>LTC-USD</th>\n",
       "      <th>LTC-USD</th>\n",
       "    </tr>\n",
       "    <tr>\n",
       "      <th>Date</th>\n",
       "      <th></th>\n",
       "      <th></th>\n",
       "      <th></th>\n",
       "      <th></th>\n",
       "      <th></th>\n",
       "      <th></th>\n",
       "    </tr>\n",
       "  </thead>\n",
       "  <tbody>\n",
       "    <tr>\n",
       "      <th>2024-11-22 00:00:00+00:00</th>\n",
       "      <td>92.071030</td>\n",
       "      <td>92.071030</td>\n",
       "      <td>92.360901</td>\n",
       "      <td>88.168373</td>\n",
       "      <td>89.544968</td>\n",
       "      <td>1071379018</td>\n",
       "    </tr>\n",
       "    <tr>\n",
       "      <th>2024-11-23 00:00:00+00:00</th>\n",
       "      <td>99.391197</td>\n",
       "      <td>99.391197</td>\n",
       "      <td>105.691826</td>\n",
       "      <td>92.070915</td>\n",
       "      <td>92.070915</td>\n",
       "      <td>2506682590</td>\n",
       "    </tr>\n",
       "    <tr>\n",
       "      <th>2024-11-24 00:00:00+00:00</th>\n",
       "      <td>96.949509</td>\n",
       "      <td>96.949509</td>\n",
       "      <td>102.709412</td>\n",
       "      <td>92.369156</td>\n",
       "      <td>99.391289</td>\n",
       "      <td>1275314163</td>\n",
       "    </tr>\n",
       "    <tr>\n",
       "      <th>2024-11-25 00:00:00+00:00</th>\n",
       "      <td>92.363762</td>\n",
       "      <td>92.363762</td>\n",
       "      <td>98.965027</td>\n",
       "      <td>91.403152</td>\n",
       "      <td>96.949371</td>\n",
       "      <td>995234778</td>\n",
       "    </tr>\n",
       "    <tr>\n",
       "      <th>2024-11-26 00:00:00+00:00</th>\n",
       "      <td>93.044876</td>\n",
       "      <td>93.044876</td>\n",
       "      <td>95.094948</td>\n",
       "      <td>88.284294</td>\n",
       "      <td>92.359818</td>\n",
       "      <td>863238776</td>\n",
       "    </tr>\n",
       "  </tbody>\n",
       "</table>\n",
       "</div>"
      ],
      "text/plain": [
       "Price                      Adj Close      Close        High        Low  \\\n",
       "Ticker                       LTC-USD    LTC-USD     LTC-USD    LTC-USD   \n",
       "Date                                                                     \n",
       "2024-11-22 00:00:00+00:00  92.071030  92.071030   92.360901  88.168373   \n",
       "2024-11-23 00:00:00+00:00  99.391197  99.391197  105.691826  92.070915   \n",
       "2024-11-24 00:00:00+00:00  96.949509  96.949509  102.709412  92.369156   \n",
       "2024-11-25 00:00:00+00:00  92.363762  92.363762   98.965027  91.403152   \n",
       "2024-11-26 00:00:00+00:00  93.044876  93.044876   95.094948  88.284294   \n",
       "\n",
       "Price                           Open      Volume  \n",
       "Ticker                       LTC-USD     LTC-USD  \n",
       "Date                                              \n",
       "2024-11-22 00:00:00+00:00  89.544968  1071379018  \n",
       "2024-11-23 00:00:00+00:00  92.070915  2506682590  \n",
       "2024-11-24 00:00:00+00:00  99.391289  1275314163  \n",
       "2024-11-25 00:00:00+00:00  96.949371   995234778  \n",
       "2024-11-26 00:00:00+00:00  92.359818   863238776  "
      ]
     },
     "execution_count": 4,
     "metadata": {},
     "output_type": "execute_result"
    }
   ],
   "source": [
    "data.tail()"
   ]
  },
  {
   "cell_type": "code",
   "execution_count": 5,
   "id": "55978cc3-4d98-460c-8f35-f90b089fa67a",
   "metadata": {},
   "outputs": [
    {
     "name": "stdout",
     "output_type": "stream",
     "text": [
      "MultiIndex([('Adj Close', 'LTC-USD'),\n",
      "            (    'Close', 'LTC-USD'),\n",
      "            (     'High', 'LTC-USD'),\n",
      "            (      'Low', 'LTC-USD'),\n",
      "            (     'Open', 'LTC-USD'),\n",
      "            (   'Volume', 'LTC-USD')],\n",
      "           names=['Price', 'Ticker'])\n"
     ]
    }
   ],
   "source": [
    "print(data.columns)"
   ]
  },
  {
   "cell_type": "code",
   "execution_count": 6,
   "id": "7ad0385e-32f3-4605-9c43-8bc5fd420659",
   "metadata": {},
   "outputs": [],
   "source": [
    "# 2. Prepare the data\n",
    "data = pd.DataFrame(data)\n",
    "data.reset_index(inplace=True)\n",
    "data = data[['Close']]  # Keep only 'Close' price\n",
    "data.dropna(inplace=True)"
   ]
  },
  {
   "cell_type": "code",
   "execution_count": 7,
   "id": "e57ba218-086e-4acf-acbb-c295232c7fb9",
   "metadata": {},
   "outputs": [],
   "source": [
    "# 3. Train-test split\n",
    "train_data = data[:-100]\n",
    "test_data = data[-100:]"
   ]
  },
  {
   "cell_type": "code",
   "execution_count": 8,
   "id": "5266340b-e66f-468c-be48-0822f01250d3",
   "metadata": {},
   "outputs": [],
   "source": [
    "# 4. Normalize the data\n",
    "scaler = MinMaxScaler(feature_range=(0, 1))\n",
    "train_data_scaled = scaler.fit_transform(train_data)"
   ]
  },
  {
   "cell_type": "code",
   "execution_count": 9,
   "id": "bac7553e-e657-4519-ba3a-1e7b30e37914",
   "metadata": {},
   "outputs": [],
   "source": [
    "# 5. Prepare sequences\n",
    "base_days = 100\n",
    "x_train, y_train = [], []\n",
    "for i in range(base_days, len(train_data_scaled)):\n",
    "    x_train.append(train_data_scaled[i - base_days:i])\n",
    "    y_train.append(train_data_scaled[i, 0])\n",
    "x_train, y_train = np.array(x_train), np.array(y_train)\n",
    "x_train = np.reshape(x_train, (x_train.shape[0], x_train.shape[1], 1))"
   ]
  },
  {
   "cell_type": "code",
   "execution_count": 10,
   "id": "17e1cd05-f8c1-4919-8de4-c1efcfae584a",
   "metadata": {},
   "outputs": [
    {
     "name": "stderr",
     "output_type": "stream",
     "text": [
      "D:\\Anaconda\\Lib\\site-packages\\keras\\src\\layers\\rnn\\rnn.py:204: UserWarning: Do not pass an `input_shape`/`input_dim` argument to a layer. When using Sequential models, prefer using an `Input(shape)` object as the first layer in the model instead.\n",
      "  super().__init__(**kwargs)\n"
     ]
    }
   ],
   "source": [
    "# 6. Build the LSTM model\n",
    "model = Sequential()\n",
    "model.add(LSTM(50, activation='relu', return_sequences=True, input_shape=(x_train.shape[1], 1)))\n",
    "model.add(Dropout(0.2))\n",
    "model.add(LSTM(60, activation='relu', return_sequences=True))\n",
    "model.add(Dropout(0.3))\n",
    "model.add(LSTM(80, activation='relu'))\n",
    "model.add(Dropout(0.4))\n",
    "model.add(Dense(1))\n",
    "model.compile(optimizer='adam', loss='mean_squared_error')"
   ]
  },
  {
   "cell_type": "code",
   "execution_count": 11,
   "id": "c97bc106-31ce-4683-b7bd-fd331a95b954",
   "metadata": {},
   "outputs": [
    {
     "name": "stdout",
     "output_type": "stream",
     "text": [
      "Epoch 1/50\n",
      "\u001b[1m107/107\u001b[0m \u001b[32m━━━━━━━━━━━━━━━━━━━━\u001b[0m\u001b[37m\u001b[0m \u001b[1m17s\u001b[0m 118ms/step - loss: 0.0210\n",
      "Epoch 2/50\n",
      "\u001b[1m107/107\u001b[0m \u001b[32m━━━━━━━━━━━━━━━━━━━━\u001b[0m\u001b[37m\u001b[0m \u001b[1m13s\u001b[0m 116ms/step - loss: 0.0042\n",
      "Epoch 3/50\n",
      "\u001b[1m107/107\u001b[0m \u001b[32m━━━━━━━━━━━━━━━━━━━━\u001b[0m\u001b[37m\u001b[0m \u001b[1m12s\u001b[0m 113ms/step - loss: 0.0036\n",
      "Epoch 4/50\n",
      "\u001b[1m107/107\u001b[0m \u001b[32m━━━━━━━━━━━━━━━━━━━━\u001b[0m\u001b[37m\u001b[0m \u001b[1m12s\u001b[0m 108ms/step - loss: 0.0027\n",
      "Epoch 5/50\n",
      "\u001b[1m107/107\u001b[0m \u001b[32m━━━━━━━━━━━━━━━━━━━━\u001b[0m\u001b[37m\u001b[0m \u001b[1m13s\u001b[0m 119ms/step - loss: 0.0028\n",
      "Epoch 6/50\n",
      "\u001b[1m107/107\u001b[0m \u001b[32m━━━━━━━━━━━━━━━━━━━━\u001b[0m\u001b[37m\u001b[0m \u001b[1m13s\u001b[0m 124ms/step - loss: 0.0025\n",
      "Epoch 7/50\n",
      "\u001b[1m107/107\u001b[0m \u001b[32m━━━━━━━━━━━━━━━━━━━━\u001b[0m\u001b[37m\u001b[0m \u001b[1m14s\u001b[0m 132ms/step - loss: 0.0023\n",
      "Epoch 8/50\n",
      "\u001b[1m107/107\u001b[0m \u001b[32m━━━━━━━━━━━━━━━━━━━━\u001b[0m\u001b[37m\u001b[0m \u001b[1m13s\u001b[0m 120ms/step - loss: 0.0018\n",
      "Epoch 9/50\n",
      "\u001b[1m107/107\u001b[0m \u001b[32m━━━━━━━━━━━━━━━━━━━━\u001b[0m\u001b[37m\u001b[0m \u001b[1m13s\u001b[0m 123ms/step - loss: 0.0017\n",
      "Epoch 10/50\n",
      "\u001b[1m107/107\u001b[0m \u001b[32m━━━━━━━━━━━━━━━━━━━━\u001b[0m\u001b[37m\u001b[0m \u001b[1m14s\u001b[0m 126ms/step - loss: 0.0021\n",
      "Epoch 11/50\n",
      "\u001b[1m107/107\u001b[0m \u001b[32m━━━━━━━━━━━━━━━━━━━━\u001b[0m\u001b[37m\u001b[0m \u001b[1m15s\u001b[0m 140ms/step - loss: 0.0018\n",
      "Epoch 12/50\n",
      "\u001b[1m107/107\u001b[0m \u001b[32m━━━━━━━━━━━━━━━━━━━━\u001b[0m\u001b[37m\u001b[0m \u001b[1m13s\u001b[0m 119ms/step - loss: 0.0018\n",
      "Epoch 13/50\n",
      "\u001b[1m107/107\u001b[0m \u001b[32m━━━━━━━━━━━━━━━━━━━━\u001b[0m\u001b[37m\u001b[0m \u001b[1m13s\u001b[0m 124ms/step - loss: 0.0020\n",
      "Epoch 14/50\n",
      "\u001b[1m107/107\u001b[0m \u001b[32m━━━━━━━━━━━━━━━━━━━━\u001b[0m\u001b[37m\u001b[0m \u001b[1m14s\u001b[0m 126ms/step - loss: 0.0016\n",
      "Epoch 15/50\n",
      "\u001b[1m107/107\u001b[0m \u001b[32m━━━━━━━━━━━━━━━━━━━━\u001b[0m\u001b[37m\u001b[0m \u001b[1m13s\u001b[0m 125ms/step - loss: 0.0016\n",
      "Epoch 16/50\n",
      "\u001b[1m107/107\u001b[0m \u001b[32m━━━━━━━━━━━━━━━━━━━━\u001b[0m\u001b[37m\u001b[0m \u001b[1m14s\u001b[0m 134ms/step - loss: 0.0016\n",
      "Epoch 17/50\n",
      "\u001b[1m107/107\u001b[0m \u001b[32m━━━━━━━━━━━━━━━━━━━━\u001b[0m\u001b[37m\u001b[0m \u001b[1m14s\u001b[0m 124ms/step - loss: 0.0016\n",
      "Epoch 18/50\n",
      "\u001b[1m107/107\u001b[0m \u001b[32m━━━━━━━━━━━━━━━━━━━━\u001b[0m\u001b[37m\u001b[0m \u001b[1m13s\u001b[0m 120ms/step - loss: 0.0017\n",
      "Epoch 19/50\n",
      "\u001b[1m107/107\u001b[0m \u001b[32m━━━━━━━━━━━━━━━━━━━━\u001b[0m\u001b[37m\u001b[0m \u001b[1m13s\u001b[0m 119ms/step - loss: 0.0014\n",
      "Epoch 20/50\n",
      "\u001b[1m107/107\u001b[0m \u001b[32m━━━━━━━━━━━━━━━━━━━━\u001b[0m\u001b[37m\u001b[0m \u001b[1m14s\u001b[0m 124ms/step - loss: 0.0016\n",
      "Epoch 21/50\n",
      "\u001b[1m107/107\u001b[0m \u001b[32m━━━━━━━━━━━━━━━━━━━━\u001b[0m\u001b[37m\u001b[0m \u001b[1m10s\u001b[0m 91ms/step - loss: 0.0015\n",
      "Epoch 22/50\n",
      "\u001b[1m107/107\u001b[0m \u001b[32m━━━━━━━━━━━━━━━━━━━━\u001b[0m\u001b[37m\u001b[0m \u001b[1m9s\u001b[0m 85ms/step - loss: 0.0014\n",
      "Epoch 23/50\n",
      "\u001b[1m107/107\u001b[0m \u001b[32m━━━━━━━━━━━━━━━━━━━━\u001b[0m\u001b[37m\u001b[0m \u001b[1m8s\u001b[0m 76ms/step - loss: 0.0014\n",
      "Epoch 24/50\n",
      "\u001b[1m107/107\u001b[0m \u001b[32m━━━━━━━━━━━━━━━━━━━━\u001b[0m\u001b[37m\u001b[0m \u001b[1m8s\u001b[0m 76ms/step - loss: 0.0015\n",
      "Epoch 25/50\n",
      "\u001b[1m107/107\u001b[0m \u001b[32m━━━━━━━━━━━━━━━━━━━━\u001b[0m\u001b[37m\u001b[0m \u001b[1m8s\u001b[0m 75ms/step - loss: 0.0015\n",
      "Epoch 26/50\n",
      "\u001b[1m107/107\u001b[0m \u001b[32m━━━━━━━━━━━━━━━━━━━━\u001b[0m\u001b[37m\u001b[0m \u001b[1m9s\u001b[0m 80ms/step - loss: 0.0014\n",
      "Epoch 27/50\n",
      "\u001b[1m107/107\u001b[0m \u001b[32m━━━━━━━━━━━━━━━━━━━━\u001b[0m\u001b[37m\u001b[0m \u001b[1m8s\u001b[0m 78ms/step - loss: 0.0015\n",
      "Epoch 28/50\n",
      "\u001b[1m107/107\u001b[0m \u001b[32m━━━━━━━━━━━━━━━━━━━━\u001b[0m\u001b[37m\u001b[0m \u001b[1m8s\u001b[0m 79ms/step - loss: 0.0014\n",
      "Epoch 29/50\n",
      "\u001b[1m107/107\u001b[0m \u001b[32m━━━━━━━━━━━━━━━━━━━━\u001b[0m\u001b[37m\u001b[0m \u001b[1m8s\u001b[0m 77ms/step - loss: 0.0014\n",
      "Epoch 30/50\n",
      "\u001b[1m107/107\u001b[0m \u001b[32m━━━━━━━━━━━━━━━━━━━━\u001b[0m\u001b[37m\u001b[0m \u001b[1m8s\u001b[0m 77ms/step - loss: 0.0013\n",
      "Epoch 31/50\n",
      "\u001b[1m107/107\u001b[0m \u001b[32m━━━━━━━━━━━━━━━━━━━━\u001b[0m\u001b[37m\u001b[0m \u001b[1m8s\u001b[0m 73ms/step - loss: 0.0014\n",
      "Epoch 32/50\n",
      "\u001b[1m107/107\u001b[0m \u001b[32m━━━━━━━━━━━━━━━━━━━━\u001b[0m\u001b[37m\u001b[0m \u001b[1m8s\u001b[0m 77ms/step - loss: 0.0013\n",
      "Epoch 33/50\n",
      "\u001b[1m107/107\u001b[0m \u001b[32m━━━━━━━━━━━━━━━━━━━━\u001b[0m\u001b[37m\u001b[0m \u001b[1m8s\u001b[0m 77ms/step - loss: 0.0014\n",
      "Epoch 34/50\n",
      "\u001b[1m107/107\u001b[0m \u001b[32m━━━━━━━━━━━━━━━━━━━━\u001b[0m\u001b[37m\u001b[0m \u001b[1m8s\u001b[0m 76ms/step - loss: 0.0014\n",
      "Epoch 35/50\n",
      "\u001b[1m107/107\u001b[0m \u001b[32m━━━━━━━━━━━━━━━━━━━━\u001b[0m\u001b[37m\u001b[0m \u001b[1m8s\u001b[0m 77ms/step - loss: 0.0012\n",
      "Epoch 36/50\n",
      "\u001b[1m107/107\u001b[0m \u001b[32m━━━━━━━━━━━━━━━━━━━━\u001b[0m\u001b[37m\u001b[0m \u001b[1m7s\u001b[0m 69ms/step - loss: 0.0014\n",
      "Epoch 37/50\n",
      "\u001b[1m107/107\u001b[0m \u001b[32m━━━━━━━━━━━━━━━━━━━━\u001b[0m\u001b[37m\u001b[0m \u001b[1m6s\u001b[0m 61ms/step - loss: 0.0012\n",
      "Epoch 38/50\n",
      "\u001b[1m107/107\u001b[0m \u001b[32m━━━━━━━━━━━━━━━━━━━━\u001b[0m\u001b[37m\u001b[0m \u001b[1m7s\u001b[0m 61ms/step - loss: 0.0014\n",
      "Epoch 39/50\n",
      "\u001b[1m107/107\u001b[0m \u001b[32m━━━━━━━━━━━━━━━━━━━━\u001b[0m\u001b[37m\u001b[0m \u001b[1m6s\u001b[0m 60ms/step - loss: 0.0013\n",
      "Epoch 40/50\n",
      "\u001b[1m107/107\u001b[0m \u001b[32m━━━━━━━━━━━━━━━━━━━━\u001b[0m\u001b[37m\u001b[0m \u001b[1m7s\u001b[0m 62ms/step - loss: 0.0013\n",
      "Epoch 41/50\n",
      "\u001b[1m107/107\u001b[0m \u001b[32m━━━━━━━━━━━━━━━━━━━━\u001b[0m\u001b[37m\u001b[0m \u001b[1m6s\u001b[0m 60ms/step - loss: 0.0012\n",
      "Epoch 42/50\n",
      "\u001b[1m107/107\u001b[0m \u001b[32m━━━━━━━━━━━━━━━━━━━━\u001b[0m\u001b[37m\u001b[0m \u001b[1m6s\u001b[0m 60ms/step - loss: 0.0012\n",
      "Epoch 43/50\n",
      "\u001b[1m107/107\u001b[0m \u001b[32m━━━━━━━━━━━━━━━━━━━━\u001b[0m\u001b[37m\u001b[0m \u001b[1m7s\u001b[0m 61ms/step - loss: 0.0012\n",
      "Epoch 44/50\n",
      "\u001b[1m107/107\u001b[0m \u001b[32m━━━━━━━━━━━━━━━━━━━━\u001b[0m\u001b[37m\u001b[0m \u001b[1m7s\u001b[0m 64ms/step - loss: 0.0013\n",
      "Epoch 45/50\n",
      "\u001b[1m107/107\u001b[0m \u001b[32m━━━━━━━━━━━━━━━━━━━━\u001b[0m\u001b[37m\u001b[0m \u001b[1m7s\u001b[0m 64ms/step - loss: 0.0013\n",
      "Epoch 46/50\n",
      "\u001b[1m107/107\u001b[0m \u001b[32m━━━━━━━━━━━━━━━━━━━━\u001b[0m\u001b[37m\u001b[0m \u001b[1m7s\u001b[0m 68ms/step - loss: 0.0013\n",
      "Epoch 47/50\n",
      "\u001b[1m107/107\u001b[0m \u001b[32m━━━━━━━━━━━━━━━━━━━━\u001b[0m\u001b[37m\u001b[0m \u001b[1m8s\u001b[0m 77ms/step - loss: 0.0011\n",
      "Epoch 48/50\n",
      "\u001b[1m107/107\u001b[0m \u001b[32m━━━━━━━━━━━━━━━━━━━━\u001b[0m\u001b[37m\u001b[0m \u001b[1m7s\u001b[0m 67ms/step - loss: 0.0012\n",
      "Epoch 49/50\n",
      "\u001b[1m107/107\u001b[0m \u001b[32m━━━━━━━━━━━━━━━━━━━━\u001b[0m\u001b[37m\u001b[0m \u001b[1m7s\u001b[0m 64ms/step - loss: 0.0012\n",
      "Epoch 50/50\n",
      "\u001b[1m107/107\u001b[0m \u001b[32m━━━━━━━━━━━━━━━━━━━━\u001b[0m\u001b[37m\u001b[0m \u001b[1m7s\u001b[0m 63ms/step - loss: 0.0012\n"
     ]
    },
    {
     "data": {
      "text/plain": [
       "<keras.src.callbacks.history.History at 0x1e78cb5cbc0>"
      ]
     },
     "execution_count": 11,
     "metadata": {},
     "output_type": "execute_result"
    }
   ],
   "source": [
    "# 7. Train the model\n",
    "model.fit(x_train, y_train, epochs=50, verbose=1)"
   ]
  },
  {
   "cell_type": "code",
   "execution_count": 12,
   "id": "0dcc281c-3e55-44a3-ab10-cdba7e015b06",
   "metadata": {},
   "outputs": [],
   "source": [
    "# 8. Prepare test data\n",
    "total_data = pd.concat((train_data, test_data), axis=0, ignore_index=True)\n",
    "test_data_scaled = scaler.transform(total_data)\n",
    "x_test, y_test = [], []\n",
    "for i in range(base_days, len(test_data_scaled)):\n",
    "    x_test.append(test_data_scaled[i - base_days:i])\n",
    "    y_test.append(test_data_scaled[i, 0])\n",
    "x_test, y_test = np.array(x_test), np.array(y_test)\n",
    "x_test = np.reshape(x_test, (x_test.shape[0], x_test.shape[1], 1))"
   ]
  },
  {
   "cell_type": "code",
   "execution_count": 13,
   "id": "1ecc6e8b-b519-44e2-98e5-1e206584aba9",
   "metadata": {},
   "outputs": [
    {
     "name": "stdout",
     "output_type": "stream",
     "text": [
      "\u001b[1m110/110\u001b[0m \u001b[32m━━━━━━━━━━━━━━━━━━━━\u001b[0m\u001b[37m\u001b[0m \u001b[1m3s\u001b[0m 21ms/step\n"
     ]
    }
   ],
   "source": [
    "# 9. Make predictions\n",
    "predictions = model.predict(x_test)\n",
    "predictions = scaler.inverse_transform(predictions)"
   ]
  },
  {
   "cell_type": "code",
   "execution_count": 14,
   "id": "963200ed-799e-444d-8d1c-7a8b33fb3d0b",
   "metadata": {},
   "outputs": [
    {
     "name": "stdout",
     "output_type": "stream",
     "text": [
      "\u001b[1m1/1\u001b[0m \u001b[32m━━━━━━━━━━━━━━━━━━━━\u001b[0m\u001b[37m\u001b[0m \u001b[1m0s\u001b[0m 27ms/step\n",
      "\u001b[1m1/1\u001b[0m \u001b[32m━━━━━━━━━━━━━━━━━━━━\u001b[0m\u001b[37m\u001b[0m \u001b[1m0s\u001b[0m 30ms/step\n",
      "\u001b[1m1/1\u001b[0m \u001b[32m━━━━━━━━━━━━━━━━━━━━\u001b[0m\u001b[37m\u001b[0m \u001b[1m0s\u001b[0m 29ms/step\n",
      "\u001b[1m1/1\u001b[0m \u001b[32m━━━━━━━━━━━━━━━━━━━━\u001b[0m\u001b[37m\u001b[0m \u001b[1m0s\u001b[0m 27ms/step\n",
      "\u001b[1m1/1\u001b[0m \u001b[32m━━━━━━━━━━━━━━━━━━━━\u001b[0m\u001b[37m\u001b[0m \u001b[1m0s\u001b[0m 30ms/step\n"
     ]
    }
   ],
   "source": [
    "# 10. Predict future prices for 5 days\n",
    "future_prices = {}\n",
    "current_input = test_data_scaled[-base_days:]  # Start with the last 100 days\n",
    "for i in range(1, 6):  # Predict for the next 5 days\n",
    "    future_pred = model.predict(current_input.reshape(1, base_days, 1))\n",
    "    future_date = (datetime.now() + timedelta(days=i)).strftime('%Y-%m-%d')\n",
    "    future_prices[future_date] = scaler.inverse_transform(future_pred)[0][0]\n",
    "    current_input = np.append(current_input[1:], future_pred, axis=0)  # Slide the window\n"
   ]
  },
  {
   "cell_type": "code",
   "execution_count": 15,
   "id": "298f237c-d88b-4ae5-8cee-e837b191df3f",
   "metadata": {},
   "outputs": [
    {
     "data": {
      "image/png": "[encoded data removed]",
      "text/plain": [
       "<Figure size 1200x600 with 1 Axes>"
      ]
     },
     "metadata": {},
     "output_type": "display_data"
    }
   ],
   "source": [
    "# Adjust predictions to match the last 100 test samples\n",
    "test_predictions = predictions[-100:]  # Take the last 100 predictions\n",
    "\n",
    "# Plot the predictions\n",
    "plt.figure(figsize=(12, 6))\n",
    "plt.plot(data['Close'], label=\"Historical Prices\", color=\"blue\")\n",
    "plt.plot(range(len(data) - 100, len(data)), test_predictions, label=\"Test Predictions\", color=\"red\")\n",
    "plt.title(\"Bitcoin Price Prediction\")\n",
    "plt.legend()\n",
    "plt.show()"
   ]
  },
  {
   "cell_type": "code",
   "execution_count": 16,
   "id": "6561f8f4-7db7-4fd0-89d8-d9ad3ea55da9",
   "metadata": {},
   "outputs": [
    {
     "data": {
      "text/html": [
       "<div>\n",
       "<style scoped>\n",
       "    .dataframe tbody tr th:only-of-type {\n",
       "        vertical-align: middle;\n",
       "    }\n",
       "\n",
       "    .dataframe tbody tr th {\n",
       "        vertical-align: top;\n",
       "    }\n",
       "\n",
       "    .dataframe thead th {\n",
       "        text-align: right;\n",
       "    }\n",
       "</style>\n",
       "<table border=\"1\" class=\"dataframe\">\n",
       "  <thead>\n",
       "    <tr style=\"text-align: right;\">\n",
       "      <th></th>\n",
       "      <th>Date</th>\n",
       "      <th>PredictedPrice</th>\n",
       "    </tr>\n",
       "  </thead>\n",
       "  <tbody>\n",
       "    <tr>\n",
       "      <th>0</th>\n",
       "      <td>2024-11-29</td>\n",
       "      <td>94.348373</td>\n",
       "    </tr>\n",
       "    <tr>\n",
       "      <th>1</th>\n",
       "      <td>2024-11-30</td>\n",
       "      <td>93.149864</td>\n",
       "    </tr>\n",
       "    <tr>\n",
       "      <th>2</th>\n",
       "      <td>2024-12-01</td>\n",
       "      <td>92.226158</td>\n",
       "    </tr>\n",
       "    <tr>\n",
       "      <th>3</th>\n",
       "      <td>2024-12-02</td>\n",
       "      <td>91.524170</td>\n",
       "    </tr>\n",
       "    <tr>\n",
       "      <th>4</th>\n",
       "      <td>2024-12-03</td>\n",
       "      <td>90.951866</td>\n",
       "    </tr>\n",
       "  </tbody>\n",
       "</table>\n",
       "</div>"
      ],
      "text/plain": [
       "         Date  PredictedPrice\n",
       "0  2024-11-29       94.348373\n",
       "1  2024-11-30       93.149864\n",
       "2  2024-12-01       92.226158\n",
       "3  2024-12-02       91.524170\n",
       "4  2024-12-03       90.951866"
      ]
     },
     "execution_count": 16,
     "metadata": {},
     "output_type": "execute_result"
    }
   ],
   "source": [
    "# 11. Results: Display future prices in a table and save to CSV\n",
    "future_prices_df = pd.DataFrame(\n",
    "    list(future_prices.items()), columns=[\"Date\", \"PredictedPrice\"]\n",
    ")\n",
    "\n",
    "# Save the table to a CSV file\n",
    "future_prices_df.to_csv(\"LTC_future_predicted_prices.csv\", index=False)\n",
    "\n",
    "# Display the table in the notebook\n",
    "future_prices_df\n"
   ]
  },
  {
   "cell_type": "code",
   "execution_count": null,
   "id": "0e253ced-308e-4db3-98bb-52ecbc63bbcb",
   "metadata": {},
   "outputs": [],
   "source": []
  }
 ],
 "metadata": {
  "kernelspec": {
   "display_name": "Python 3 (ipykernel)",
   "language": "python",
   "name": "python3"
  },
  "language_info": {
   "codemirror_mode": {
    "name": "ipython",
    "version": 3
   },
   "file_extension": ".py",
   "mimetype": "text/x-python",
   "name": "python",
   "nbconvert_exporter": "python",
   "pygments_lexer": "ipython3",
   "version": "3.12.7"
  }
 },
 "nbformat": 4,
 "nbformat_minor": 5
}
